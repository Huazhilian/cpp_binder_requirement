{
  "nbformat": 4,
  "nbformat_minor": 5,
  "metadata": {},
  "cells": [
    {
      "cell_type": "code",
      "metadata": {},
      "execution_count": null,
      "outputs": [],
      "source": [
        "#include <iostream>\n",
        "std::cout << \"Hello, world from Binder!\" << std::endl;"
      ]
    }
  ]
}